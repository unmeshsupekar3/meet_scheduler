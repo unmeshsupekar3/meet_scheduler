{
 "cells": [
  {
   "cell_type": "code",
   "execution_count": 1,
   "id": "221f068d",
   "metadata": {},
   "outputs": [],
   "source": [
    "# pip install langchain-ollama ollama\n",
    "from langchain_ollama import OllamaLLM\n",
    "from langchain_ollama import ChatOllama\n"
   ]
  },
  {
   "cell_type": "code",
   "execution_count": 2,
   "id": "9e7c8faa",
   "metadata": {},
   "outputs": [
    {
     "name": "stdout",
     "output_type": "stream",
     "text": [
      "response content='A car is an automobile designed for transportation, powered by internal combustion engines or electric motors, typically consisting of a chassis, engine, transmission, and wheels.' additional_kwargs={} response_metadata={'model': 'llama3.2:1b', 'created_at': '2025-05-31T17:37:00.2568735Z', 'done': True, 'done_reason': 'stop', 'total_duration': 17316720000, 'load_duration': 8100295500, 'prompt_eval_count': 32, 'prompt_eval_duration': 2344602500, 'eval_count': 32, 'eval_duration': 6860785200, 'message': Message(role='assistant', content='', images=None, tool_calls=None)} id='run-02955fa6-78ec-40bd-ad93-34ecd02f4331-0' usage_metadata={'input_tokens': 32, 'output_tokens': 32, 'total_tokens': 64}\n"
     ]
    }
   ],
   "source": [
    "\n",
    "model = ChatOllama(model = \"llama3.2:1b\", streaming = True)\n",
    "\n",
    "response = model.invoke(input=\"What is a car in one line\")\n",
    "print(\"response\",response)"
   ]
  },
  {
   "cell_type": "code",
   "execution_count": null,
   "id": "eef7f3be",
   "metadata": {},
   "outputs": [],
   "source": []
  }
 ],
 "metadata": {
  "kernelspec": {
   "display_name": "Python 3",
   "language": "python",
   "name": "python3"
  },
  "language_info": {
   "codemirror_mode": {
    "name": "ipython",
    "version": 3
   },
   "file_extension": ".py",
   "mimetype": "text/x-python",
   "name": "python",
   "nbconvert_exporter": "python",
   "pygments_lexer": "ipython3",
   "version": "3.12.4"
  }
 },
 "nbformat": 4,
 "nbformat_minor": 5
}
